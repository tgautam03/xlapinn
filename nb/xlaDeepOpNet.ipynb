{
 "cells": [
  {
   "cell_type": "code",
   "execution_count": 1,
   "id": "45ee1d09",
   "metadata": {},
   "outputs": [],
   "source": [
    "import jax.numpy as jnp\n",
    "\n",
    "from jax import grad\n",
    "import jax\n",
    "\n",
    "import numpy as np\n",
    "import matplotlib.pyplot as plt\n",
    "import time\n",
    "from functools import partial"
   ]
  },
  {
   "cell_type": "markdown",
   "id": "8e887bea",
   "metadata": {},
   "source": [
    "# Dataset"
   ]
  },
  {
   "cell_type": "code",
   "execution_count": 2,
   "id": "66b9797a",
   "metadata": {},
   "outputs": [],
   "source": [
    "class Cheb_poly():\n",
    "    def __init__(self, N, M):\n",
    "        super(Cheb_poly, self).__init__()\n",
    "        self.N = N\n",
    "        self.M = M\n",
    "        \n",
    "    def make_one_function(self):\n",
    "        coefficents = []\n",
    "        for i in range(self.N):\n",
    "            coefficents.append(np.random.uniform(-self.M,self.M))\n",
    "        Cheb = np.polynomial.chebyshev.Chebyshev(coefficents,[0,1])\n",
    "        return Cheb\n",
    "    \n",
    "    def sample_one_function(self, Cheb, x, y):\n",
    "        return(Cheb(x),y,Cheb.integ(lbnd=0)(y))\n",
    "    \n",
    "    def sample_functions(self, n, m):\n",
    "        input_u_list = []\n",
    "        input_y_list = []\n",
    "        output_list = []\n",
    "        input_u = np.zeros((2,n,np.max(m)))\n",
    "        input_y = np.zeros((2,n,1))\n",
    "        output = np.zeros((2,n,1))\n",
    "        for i in range(n):\n",
    "            #y = np.array([1])\n",
    "            func = self.make_one_function() # Make new u(x) function\n",
    "            y = np.random.uniform(0, 1, 1) # Output location\n",
    "            for j in range(m.shape[0]):\n",
    "                x = np.linspace(0, 1, m[j]) # Input Location\n",
    "                p1, p2, p3 = self.sample_one_function(func,x, y)\n",
    "                input_u[j,i,:] = np.pad(p1,(0, int(np.max(m)-m[j])))\n",
    "                input_y[j,i,:] = p2\n",
    "                output[j,i,:] = p3\n",
    "                \n",
    "        for j in range(m.shape[0]):\n",
    "            input_u_list.append(input_u[j,:,0:m[j]])\n",
    "            input_y_list.append(input_y[j])\n",
    "            output_list.append(output[j])\n",
    "            \n",
    "        return input_u_list, input_y_list, output_list\n",
    "    \n",
    "    def sample_functions_test(self, n, m, y_dim):\n",
    "        input_u_list = []\n",
    "        input_y_list = []\n",
    "        output_list = []\n",
    "        input_u = np.zeros((2,n,np.max(m)))\n",
    "        input_y = np.zeros((2, n, y_dim))\n",
    "        output = np.zeros((2, n, y_dim))\n",
    "        for i in range(n):\n",
    "            #y = np.array([1])\n",
    "            func = self.make_one_function() # Make new u(x) function\n",
    "            y = np.linspace(0, 1, y_dim) # Output location\n",
    "            for j in range(m.shape[0]):\n",
    "                x = np.linspace(0, 1, m[j]) # Input Location\n",
    "                p1, p2, p3 = self.sample_one_function(func,x, y)\n",
    "                input_u[j,i,:] = np.pad(p1,(0, int(np.max(m)-m[j])))\n",
    "                input_y[j,i,:] = p2\n",
    "                output[j,i,:] = p3\n",
    "                \n",
    "        for j in range(m.shape[0]):\n",
    "            input_u_list.append(input_u[j,:,0:m[j]])\n",
    "            input_y_list.append(input_y[j])\n",
    "            output_list.append(output[j])\n",
    "            \n",
    "        return input_u_list, input_y_list, output_list\n",
    "    \n",
    "Cheb = Cheb_poly(5, 1) # Chebyshev polynomial degree, absolute coefficent bound value i.e. [-1,1]\n",
    "sensors = np.array([10, 100])\n",
    "input_u, input_y, output = Cheb.sample_functions(10000, sensors) # Number of u(x) functions, Number of sensors   \n",
    "input_u_test, input_y_test, output_test = Cheb.sample_functions(10000, sensors) # Number of u(x) functions, Number of sensors "
   ]
  },
  {
   "cell_type": "markdown",
   "id": "084f5245",
   "metadata": {},
   "source": [
    "# DeepOpNet"
   ]
  },
  {
   "cell_type": "markdown",
   "id": "f0b14825",
   "metadata": {},
   "source": [
    "```\n",
    "import torch\n",
    "import torch.nn as nn\n",
    "\n",
    "# Base Neural Network class\n",
    "class Net(nn.Module):\n",
    "    def __init__(self, layers, act=nn.ReLU()):\n",
    "        super(Net, self).__init__()\n",
    "        self.act = act\n",
    "        self.fc = nn.ModuleList()\n",
    "        for i in range(len(layers) - 1):\n",
    "            self.fc.append(nn.Linear(layers[i], layers[i+1]))\n",
    "    def forward(self, x):\n",
    "        for i in range(len(self.fc) - 1):\n",
    "            x = self.fc[i](x)\n",
    "            x = self.act(x)\n",
    "        x = self.fc[-1](x)\n",
    "        return x\n",
    "    \n",
    "branch = Net([sensors[0],50,50])\n",
    "trunk = Net([1,50,50])\n",
    "\n",
    "torch_branch_params = []\n",
    "for i in range(len(branch.fc)):\n",
    "    W = branch.fc[i].weight.data.numpy()\n",
    "    b = branch.fc[i].bias.data.numpy()\n",
    "    \n",
    "    torch_branch_params.append((W.T, b))\n",
    "    \n",
    "torch_trunk_params = []\n",
    "for i in range(len(trunk.fc)):\n",
    "    W = trunk.fc[i].weight.data.numpy()\n",
    "    b = trunk.fc[i].bias.data.numpy()\n",
    "    \n",
    "    torch_trunk_params.append((W.T, b))\n",
    "```"
   ]
  },
  {
   "cell_type": "markdown",
   "id": "6d70c6da",
   "metadata": {},
   "source": [
    "## InitialisingParams"
   ]
  },
  {
   "cell_type": "code",
   "execution_count": 3,
   "id": "46618b06",
   "metadata": {},
   "outputs": [],
   "source": [
    "def init_params(layers:list, seed:int) -> list:\n",
    "    initialiser = jax.nn.initializers.glorot_normal()\n",
    "    key = jax.random.PRNGKey(seed)\n",
    "    \n",
    "    params=[]\n",
    "    for i in range(len(layers)-1):\n",
    "        key, subkey = jax.random.split(key)\n",
    "        W = initialiser(key=subkey, shape=(layers[i],layers[i+1]), dtype=jnp.float32)\n",
    "        b = jnp.zeros(shape=(layers[i+1],), dtype=jnp.float32)\n",
    "        params.append(dict(Weights=W, Biases=b))\n",
    "        \n",
    "    return params\n",
    "\n",
    "# def init_params(torch_params:list) -> list:\n",
    "#     params=[]\n",
    "#     for i in range(len(torch_params)):\n",
    "#         W = torch_params[i][0]\n",
    "#         b = torch_params[i][1]\n",
    "#         params.append(dict(Weights=W, Biases=b))\n",
    "        \n",
    "#     return params"
   ]
  },
  {
   "cell_type": "code",
   "execution_count": 4,
   "id": "1397b5aa",
   "metadata": {},
   "outputs": [
    {
     "data": {
      "text/plain": [
       "[{'Biases': (50,), 'Weights': (10, 50)},\n",
       " {'Biases': (50,), 'Weights': (50, 50)}]"
      ]
     },
     "execution_count": 4,
     "metadata": {},
     "output_type": "execute_result"
    }
   ],
   "source": [
    "# branchParams = init_params(torch_branch_params)\n",
    "branchParams = init_params([sensors[0],50,50], 0)\n",
    "\n",
    "# Verifying shapes\n",
    "jax.tree_map(lambda x:x.shape, branchParams)"
   ]
  },
  {
   "cell_type": "code",
   "execution_count": 5,
   "id": "1dedabff",
   "metadata": {},
   "outputs": [
    {
     "data": {
      "text/plain": [
       "[{'Biases': (50,), 'Weights': (1, 50)}, {'Biases': (50,), 'Weights': (50, 50)}]"
      ]
     },
     "execution_count": 5,
     "metadata": {},
     "output_type": "execute_result"
    }
   ],
   "source": [
    "# trunkParams = init_params(torch_trunk_params)\n",
    "trunkParams = init_params([1,50,50], 1)\n",
    "\n",
    "# Verifying shapes\n",
    "jax.tree_map(lambda x:x.shape, trunkParams)"
   ]
  },
  {
   "cell_type": "markdown",
   "id": "3406ba4b",
   "metadata": {},
   "source": [
    "## Forward"
   ]
  },
  {
   "cell_type": "markdown",
   "id": "e40775e2",
   "metadata": {},
   "source": [
    "### BranchNet"
   ]
  },
  {
   "cell_type": "code",
   "execution_count": 6,
   "id": "098052b0",
   "metadata": {},
   "outputs": [],
   "source": [
    "@jax.jit\n",
    "def branch_forward(branchParams:list, inputU:np.ndarray) -> np.ndarray:\n",
    "    hidden = branchParams[:-1]\n",
    "    last = branchParams[-1]\n",
    "    x = inputU\n",
    "    for layer in hidden:\n",
    "        z = jnp.dot(x,layer[\"Weights\"]) + layer[\"Biases\"]\n",
    "        x = jax.nn.relu(z)\n",
    "        \n",
    "    z = jnp.dot(x,last[\"Weights\"]) + last[\"Biases\"]\n",
    "    return z"
   ]
  },
  {
   "cell_type": "markdown",
   "id": "c2fa394d",
   "metadata": {},
   "source": [
    "### TrunkNet"
   ]
  },
  {
   "cell_type": "code",
   "execution_count": 7,
   "id": "b780b5e8",
   "metadata": {},
   "outputs": [],
   "source": [
    "@jax.jit\n",
    "def trunk_forward(trunkParams:list, inputY:np.ndarray) -> np.ndarray:\n",
    "    hidden = trunkParams[:-1]\n",
    "    last = trunkParams[-1]\n",
    "    x = inputY\n",
    "    for layer in hidden:\n",
    "        z = jnp.dot(x,layer[\"Weights\"]) + layer[\"Biases\"]\n",
    "        x = jax.nn.relu(z)\n",
    "        \n",
    "    z = jnp.dot(x,last[\"Weights\"]) + last[\"Biases\"]\n",
    "    return z"
   ]
  },
  {
   "cell_type": "markdown",
   "id": "ccb708e9",
   "metadata": {},
   "source": [
    "### DeepOpNet"
   ]
  },
  {
   "cell_type": "code",
   "execution_count": 8,
   "id": "6460ceaf",
   "metadata": {},
   "outputs": [],
   "source": [
    "@jax.jit\n",
    "def deep_op_net(branchParams:list, trunkParams:list, \n",
    "                inputU:np.ndarray, inputY:np.ndarray) -> np.ndarray:\n",
    "    branchOut = branch_forward(branchParams, inputU)\n",
    "    trunkOut = trunk_forward(trunkParams, inputY)\n",
    "    \n",
    "    return jnp.sum(branchOut*trunkOut, axis=-1, keepdims=True)"
   ]
  },
  {
   "cell_type": "markdown",
   "id": "f5fe986b",
   "metadata": {},
   "source": [
    "## LossFunction"
   ]
  },
  {
   "cell_type": "code",
   "execution_count": 9,
   "id": "1046bd5e",
   "metadata": {},
   "outputs": [],
   "source": [
    "@jax.jit\n",
    "def loss(branchParams:list, trunkParams:list, \n",
    "         inputU:np.ndarray, inputY:np.ndarray, \n",
    "         output:np.ndarray) -> np.ndarray:\n",
    "    pred = deep_op_net(branchParams, trunkParams, inputU, inputY)\n",
    "    return jnp.mean((output - pred)**2)"
   ]
  },
  {
   "cell_type": "markdown",
   "id": "d8ecd1a0",
   "metadata": {},
   "source": [
    "## BackwardPass"
   ]
  },
  {
   "cell_type": "code",
   "execution_count": 10,
   "id": "1ea58ee8",
   "metadata": {},
   "outputs": [],
   "source": [
    "@jax.jit\n",
    "def update(branchParams:list, trunkParams:list, \n",
    "           inputU:np.ndarray, inputY:np.ndarray, \n",
    "           output:np.ndarray, lr:float):\n",
    "\n",
    "    d_branchParams, d_trunkParams = jax.grad(loss, argnums=(0,1))(branchParams, trunkParams, \n",
    "                                                                   inputU, inputY, \n",
    "                                                                   output)\n",
    "    return (jax.tree_map(lambda p,g:p-lr*g, branchParams, d_branchParams), \n",
    "            jax.tree_map(lambda p,g:p-lr*g, trunkParams, d_trunkParams))"
   ]
  },
  {
   "cell_type": "markdown",
   "id": "aa91a8a3",
   "metadata": {},
   "source": [
    "# Evaluating"
   ]
  },
  {
   "cell_type": "markdown",
   "id": "86bacdac",
   "metadata": {},
   "source": [
    "## Initial Loss"
   ]
  },
  {
   "cell_type": "code",
   "execution_count": 11,
   "id": "262a15da",
   "metadata": {},
   "outputs": [
    {
     "data": {
      "text/plain": [
       "DeviceArray(0.21452382, dtype=float32)"
      ]
     },
     "execution_count": 11,
     "metadata": {},
     "output_type": "execute_result"
    }
   ],
   "source": [
    "mse = loss(branchParams, trunkParams, input_u[0], input_y[0], output[0])\n",
    "mse"
   ]
  },
  {
   "cell_type": "markdown",
   "id": "c6a552cf",
   "metadata": {},
   "source": [
    "## Performing 1000 Updates"
   ]
  },
  {
   "cell_type": "code",
   "execution_count": 12,
   "id": "8d35cf7f",
   "metadata": {},
   "outputs": [],
   "source": [
    "for i in range(1000):\n",
    "    branchParams, trunkParams = update(branchParams, trunkParams, \n",
    "                                       input_u[0], input_y[0], \n",
    "                                       output[0], 0.001)"
   ]
  },
  {
   "cell_type": "markdown",
   "id": "a575fc99",
   "metadata": {},
   "source": [
    "## Loss after updates"
   ]
  },
  {
   "cell_type": "code",
   "execution_count": 13,
   "id": "260a7bbe",
   "metadata": {},
   "outputs": [
    {
     "data": {
      "text/plain": [
       "DeviceArray(0.02939601, dtype=float32)"
      ]
     },
     "execution_count": 13,
     "metadata": {},
     "output_type": "execute_result"
    }
   ],
   "source": [
    "loss(branchParams, trunkParams, input_u[0], input_y[0], output[0])"
   ]
  },
  {
   "cell_type": "code",
   "execution_count": null,
   "id": "e5fb718d",
   "metadata": {},
   "outputs": [],
   "source": []
  }
 ],
 "metadata": {
  "kernelspec": {
   "display_name": "Python 3 (ipykernel)",
   "language": "python",
   "name": "python3"
  },
  "language_info": {
   "codemirror_mode": {
    "name": "ipython",
    "version": 3
   },
   "file_extension": ".py",
   "mimetype": "text/x-python",
   "name": "python",
   "nbconvert_exporter": "python",
   "pygments_lexer": "ipython3",
   "version": "3.8.10"
  }
 },
 "nbformat": 4,
 "nbformat_minor": 5
}
