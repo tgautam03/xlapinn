{
 "cells": [
  {
   "cell_type": "code",
   "execution_count": 1,
   "id": "8e7ac61a",
   "metadata": {},
   "outputs": [],
   "source": [
    "import numpy as np\n",
    "import jax.numpy as jnp\n",
    "\n",
    "from jax import grad\n",
    "import jax\n",
    "# from jax.example_libraries import optimizers\n",
    "\n",
    "import matplotlib.pyplot as plt"
   ]
  },
  {
   "cell_type": "markdown",
   "id": "6f2a9a9c",
   "metadata": {},
   "source": [
    "# PyTorch"
   ]
  },
  {
   "cell_type": "code",
   "execution_count": 5,
   "id": "9cc9de34",
   "metadata": {},
   "outputs": [],
   "source": [
    "import torch\n",
    "import torch.nn as nn\n",
    "\n",
    "class FCN(nn.Module):\n",
    "    \"Defines a connected network\"\n",
    "    \n",
    "    def __init__(self, N_INPUT, N_OUTPUT, N_HIDDEN, N_LAYERS):\n",
    "        super().__init__()\n",
    "        activation = nn.Tanh\n",
    "        self.fcs = nn.Sequential(*[\n",
    "                        nn.Linear(N_INPUT, N_HIDDEN),\n",
    "                        activation()])\n",
    "        self.fch = nn.Sequential(*[\n",
    "                        nn.Sequential(*[\n",
    "                            nn.Linear(N_HIDDEN, N_HIDDEN),\n",
    "                            activation()]) for _ in range(N_LAYERS-1)])\n",
    "        self.fce = nn.Linear(N_HIDDEN, N_OUTPUT)\n",
    "        \n",
    "    def forward(self, x):\n",
    "        x = self.fcs(x)\n",
    "        x = self.fch(x)\n",
    "        x = self.fce(x)\n",
    "        return x\n",
    "    \n",
    "mu, k = 2*d, w0**2\n",
    "\n",
    "torch.manual_seed(123)\n",
    "model = FCN(1,1,5,2)\n",
    "\n",
    "W1 = model.fcs[0].weight.data.numpy()\n",
    "b1 = model.fcs[0].bias.data.numpy()\n",
    "\n",
    "W2 = model.fch[0][0].weight.data.numpy()\n",
    "b2 = model.fch[0][0].bias.data.numpy()\n",
    "\n",
    "W3 = model.fce.weight.data.numpy()\n",
    "b3 = model.fce.bias.data.numpy()\n",
    "\n",
    "torch_params = [(W1.T, b1), (W2.T, b2), (W3.T, b3)]"
   ]
  },
  {
   "cell_type": "code",
   "execution_count": 4,
   "id": "92d8d8bb",
   "metadata": {},
   "outputs": [],
   "source": [
    "torch_x_data = torch.tensor(np.array(x_data))\n",
    "torch_y_data = torch.tensor(np.array(y_data))\n",
    "torch_x_phy = torch.tensor(np.array(x_phy)).requires_grad_(True)"
   ]
  },
  {
   "cell_type": "code",
   "execution_count": 7,
   "id": "1d2cf5fc",
   "metadata": {},
   "outputs": [],
   "source": [
    "def train():\n",
    "\n",
    "    optimizer = torch.optim.SGD(model.parameters(),lr=1e-4)\n",
    "\n",
    "    for i in range(1000):\n",
    "        optimizer.zero_grad()\n",
    "\n",
    "        # compute the \"data loss\"\n",
    "        yh = model(torch_x_data)\n",
    "        loss1 = torch.mean((yh-torch_y_data)**2)# use mean squared error\n",
    "\n",
    "        # compute the \"physics loss\"\n",
    "        yhp = model(torch_x_phy)\n",
    "        dx  = torch.autograd.grad(yhp, torch_x_phy, torch.ones_like(yhp), create_graph=True)[0]# computes dy/dx\n",
    "        dx2 = torch.autograd.grad(dx,  torch_x_phy, torch.ones_like(dx),  create_graph=True)[0]# computes d^2y/dx^2\n",
    "        physics = dx2 + mu*dx + k*yhp# computes the residual of the 1D harmonic oscillator differential equation\n",
    "        loss2 = (1e-4)*torch.mean(physics**2)\n",
    "\n",
    "        # backpropagate joint loss\n",
    "        loss = loss1 + loss2# add two loss terms together\n",
    "        loss.backward()\n",
    "        optimizer.step()\n",
    "\n",
    "#         if i%500 == 0:\n",
    "# #             print(\"Loss after epoch {}: {}\".format(i,loss))"
   ]
  },
  {
   "cell_type": "code",
   "execution_count": 8,
   "id": "6870d540",
   "metadata": {},
   "outputs": [
    {
     "name": "stdout",
     "output_type": "stream",
     "text": [
      "968 ms ± 18.6 ms per loop (mean ± std. dev. of 7 runs, 1 loop each)\n"
     ]
    }
   ],
   "source": [
    "%timeit train()"
   ]
  },
  {
   "cell_type": "code",
   "execution_count": null,
   "id": "47a61173",
   "metadata": {},
   "outputs": [],
   "source": [
    "for f in model.parameters():\n",
    "#     print('data is')\n",
    "#     print(f.data)\n",
    "    print('grad is')\n",
    "    print(f.grad)"
   ]
  },
  {
   "cell_type": "markdown",
   "id": "985d9ead",
   "metadata": {
    "heading_collapsed": true
   },
   "source": [
    "# Dataset"
   ]
  },
  {
   "cell_type": "code",
   "execution_count": 2,
   "id": "65559da9",
   "metadata": {
    "hidden": true
   },
   "outputs": [
    {
     "name": "stdout",
     "output_type": "stream",
     "text": [
      "(500, 1) (500, 1)\n",
      "(10, 1) (10, 1)\n"
     ]
    },
    {
     "data": {
      "image/png": "[encoded data removed]",
      "text/plain": [
       "<Figure size 432x288 with 1 Axes>"
      ]
     },
     "metadata": {
      "needs_background": "light"
     },
     "output_type": "display_data"
    }
   ],
   "source": [
    "def oscillator(d, w0, x):\n",
    "    \"\"\"Defines the analytical solution to the 1D underdamped harmonic oscillator problem. \n",
    "    Equations taken from: https://beltoforion.de/en/harmonic_oscillator/\"\"\"\n",
    "    assert d < w0\n",
    "    w = jnp.sqrt(w0**2-d**2)\n",
    "    phi = jnp.arctan(-d/w)\n",
    "    A = 1/(2*jnp.cos(phi))\n",
    "    cos = jnp.cos(phi+w*x)\n",
    "    sin = jnp.sin(phi+w*x)\n",
    "    exp = jnp.exp(-d*x)\n",
    "    y  = exp*2*A*cos\n",
    "    return y\n",
    "\n",
    "d, w0 = 2, 20\n",
    "\n",
    "# get the analytical solution over the full domain\n",
    "x = jnp.expand_dims(jnp.linspace(0,1,500), axis = -1)\n",
    "x_phy = jnp.expand_dims(jnp.linspace(0,1,30), axis = -1)\n",
    "y = oscillator(d, w0, x)\n",
    "print(x.shape, y.shape)\n",
    "\n",
    "# slice out a small number of points from the LHS of the domain\n",
    "x_data = x[0:200:20]\n",
    "y_data = y[0:200:20]\n",
    "print(x_data.shape, y_data.shape)\n",
    "\n",
    "plt.figure()\n",
    "plt.plot(x, y, label=\"Exact solution\")\n",
    "plt.scatter(x_data, y_data, color=\"tab:orange\", label=\"Training data\")\n",
    "plt.scatter(x_phy, -0*jnp.ones_like(x_phy), s=60, color=\"tab:green\", alpha=0.4, label='Physics loss training locations')\n",
    "plt.legend()\n",
    "plt.show()"
   ]
  },
  {
   "cell_type": "markdown",
   "id": "660d7464",
   "metadata": {
    "heading_collapsed": true
   },
   "source": [
    "# Initialising Parameters"
   ]
  },
  {
   "cell_type": "markdown",
   "id": "8bd11685",
   "metadata": {
    "hidden": true
   },
   "source": [
    "Various initialisers can be found [here](https://jax.readthedocs.io/en/latest/jax.nn.initializers.html). Some examples are:\n",
    "- `jax.nn.initializers.zeros()`\n",
    "- `jax.nn.initializers.ones()`\n",
    "- `jax.nn.initializers.uniform()`\n",
    "- `jax.nn.initializers.normal()`\n",
    "- `jax.nn.initializers.variance_scaling()`\n",
    "- `jax.nn.initializers.glorot_uniform()`\n",
    "- `jax.nn.initializers.glorot_normal()` \n",
    "- `jax.nn.initializers.lecun_uniform()`  \n",
    "- `jax.nn.initializers.lecun_normal()`  \n",
    "- `jax.nn.initializers.he_uniform()`\n",
    "- `jax.nn.initializers.he_normal()`"
   ]
  },
  {
   "cell_type": "code",
   "execution_count": 3,
   "id": "92071c5a",
   "metadata": {
    "hidden": true
   },
   "outputs": [],
   "source": [
    "def init_params(layers:list, seed:int) -> list:\n",
    "    initialiser = jax.nn.initializers.glorot_normal()\n",
    "    key = jax.random.PRNGKey(seed)\n",
    "    \n",
    "    params=[]\n",
    "    for i in range(len(layers)-1):\n",
    "        key, subkey = jax.random.split(key)\n",
    "        W = initialiser(key=subkey, shape=(layers[i],layers[i+1]), dtype=jnp.float32)\n",
    "        b = jnp.ones(shape=(layers[i+1],), dtype=jnp.float32)\n",
    "        params.append(dict(Weights=W, Biases=b))\n",
    "        \n",
    "    return params\n",
    "\n",
    "def init_params(torch_params:list) -> list:\n",
    "    params=[]\n",
    "    for i in range(len(torch_params)):\n",
    "        W = torch_params[i][0]\n",
    "        b = torch_params[i][1]\n",
    "        params.append(dict(Weights=W, Biases=b))\n",
    "        \n",
    "    return params"
   ]
  },
  {
   "cell_type": "code",
   "execution_count": 6,
   "id": "25b7a1be",
   "metadata": {
    "hidden": true
   },
   "outputs": [
    {
     "data": {
      "text/plain": [
       "[{'Biases': (5,), 'Weights': (1, 5)},\n",
       " {'Biases': (5,), 'Weights': (5, 5)},\n",
       " {'Biases': (1,), 'Weights': (5, 1)}]"
      ]
     },
     "execution_count": 6,
     "metadata": {},
     "output_type": "execute_result"
    }
   ],
   "source": [
    "layers = [1,32,32,32,1]\n",
    "params = init_params(torch_params)\n",
    "\n",
    "# Verifying shapes\n",
    "jax.tree_map(lambda x:x.shape, params)"
   ]
  },
  {
   "cell_type": "markdown",
   "id": "fa28976a",
   "metadata": {
    "heading_collapsed": true
   },
   "source": [
    "# Forward Pass"
   ]
  },
  {
   "cell_type": "markdown",
   "id": "dd6ca612",
   "metadata": {
    "hidden": true
   },
   "source": [
    "## Neural Net"
   ]
  },
  {
   "cell_type": "code",
   "execution_count": 7,
   "id": "930384f5",
   "metadata": {
    "hidden": true
   },
   "outputs": [],
   "source": [
    "@jax.jit\n",
    "def forward(params:list, x:np.ndarray) -> np.ndarray:\n",
    "    hidden = params[:-1]\n",
    "    last = params[-1]\n",
    "    for layer in hidden:\n",
    "        z = jnp.dot(x,layer[\"Weights\"]) + layer[\"Biases\"]\n",
    "        x = jax.nn.tanh(z)\n",
    "        \n",
    "    z = jnp.dot(x,last[\"Weights\"]) + last[\"Biases\"]\n",
    "    return z"
   ]
  },
  {
   "cell_type": "markdown",
   "id": "3a01d86d",
   "metadata": {
    "hidden": true
   },
   "source": [
    "## Physics Equation"
   ]
  },
  {
   "cell_type": "markdown",
   "id": "ad5a0f31",
   "metadata": {
    "hidden": true
   },
   "source": [
    "### 1st order derivative"
   ]
  },
  {
   "cell_type": "code",
   "execution_count": 8,
   "id": "454f940a",
   "metadata": {
    "hidden": true
   },
   "outputs": [],
   "source": [
    "@jax.jit\n",
    "def first_deriv(params:list, x:np.ndarray) -> np.ndarray:\n",
    "    def forward_(params:list, x:np.ndarray) -> np.ndarray:\n",
    "        z = forward(params, x)\n",
    "        return jnp.sum(z, axis=0)[0]\n",
    "    \n",
    "    u_x = jax.grad(forward_, argnums=(1))(params, x)\n",
    "    return u_x"
   ]
  },
  {
   "cell_type": "markdown",
   "id": "1c1cd8f9",
   "metadata": {
    "hidden": true
   },
   "source": [
    "### 2nd order derivative"
   ]
  },
  {
   "cell_type": "code",
   "execution_count": 9,
   "id": "420344bd",
   "metadata": {
    "hidden": true
   },
   "outputs": [],
   "source": [
    "@jax.jit\n",
    "def second_deriv(params:list, x:np.ndarray) -> np.ndarray:\n",
    "    def first_deriv_(params:list, x:np.ndarray) -> np.ndarray:\n",
    "        u_x = first_deriv(params, x)\n",
    "        return jnp.sum(u_x, axis=0)[0]\n",
    "    \n",
    "    u_xx = jax.grad(first_deriv_, argnums=(1))(params, x)\n",
    "    return u_xx"
   ]
  },
  {
   "cell_type": "markdown",
   "id": "936c9ea5",
   "metadata": {
    "hidden": true
   },
   "source": [
    "### Partial Differential Equation"
   ]
  },
  {
   "cell_type": "code",
   "execution_count": 10,
   "id": "380c162c",
   "metadata": {
    "hidden": true
   },
   "outputs": [],
   "source": [
    "@jax.jit\n",
    "def equation(params:list, x_phy:np.ndarray, coeffs:dict) -> np.ndarray:\n",
    "    '''\n",
    "    m*u_xx + mu*u_x + k*u = 0\n",
    "    '''\n",
    "    m = coeffs[\"m\"]\n",
    "    mu = coeffs[\"mu\"]\n",
    "    k = coeffs[\"k\"]\n",
    "    \n",
    "    u = forward(params, x_phy)\n",
    "    u_x = first_deriv(params, x_phy)\n",
    "    u_xx = second_deriv(params, x_phy)\n",
    "    \n",
    "    physics = m*u_xx + mu*u_x + k*u\n",
    "    \n",
    "    return physics"
   ]
  },
  {
   "cell_type": "markdown",
   "id": "0c2e3868",
   "metadata": {
    "heading_collapsed": true
   },
   "source": [
    "# Loss Function"
   ]
  },
  {
   "cell_type": "code",
   "execution_count": 11,
   "id": "72c160f9",
   "metadata": {
    "hidden": true
   },
   "outputs": [],
   "source": [
    "@jax.jit\n",
    "def loss(params:list, x_data:np.ndarray, \n",
    "         y_data:np.ndarray, x_phy:np.ndarray, \n",
    "         coeffs:dict) -> float:\n",
    "    # Physics Loss\n",
    "    eqn = equation(params, x_phy, coeffs)\n",
    "    physics_loss = (1e-4)*jnp.mean(eqn**2)\n",
    "    \n",
    "    # Data Loss\n",
    "    y_pred = forward(params, x_data)\n",
    "    data_loss = jnp.mean((y_pred - y_data)**2)\n",
    "    \n",
    "    return physics_loss + data_loss"
   ]
  },
  {
   "cell_type": "markdown",
   "id": "45766679",
   "metadata": {
    "heading_collapsed": true
   },
   "source": [
    "# Backward Pass"
   ]
  },
  {
   "cell_type": "code",
   "execution_count": 12,
   "id": "d3e4359d",
   "metadata": {
    "hidden": true
   },
   "outputs": [],
   "source": [
    "@jax.jit\n",
    "def update(params:list, x_data:np.ndarray, y_data:np.ndarray, \n",
    "           x_phy:np.ndarray, coeffs:dict, lr:float):\n",
    "\n",
    "    d_params = jax.grad(loss, argnums=(0))(params, x_data, y_data, x_phy, coeffs)\n",
    "    return jax.tree_map(lambda p,g:p-lr*g, params, d_params)"
   ]
  },
  {
   "cell_type": "markdown",
   "id": "ba277629",
   "metadata": {},
   "source": [
    "# Train"
   ]
  },
  {
   "cell_type": "code",
   "execution_count": 18,
   "id": "818f1219",
   "metadata": {},
   "outputs": [],
   "source": [
    "def xlatrain(params, x_data, y_data, x_phy):\n",
    "    m, mu, k = 1, 2*d, w0**2\n",
    "    coeffs = dict(m=m, mu=mu, k=k)\n",
    "    lr = 1e-4\n",
    "\n",
    "    history = []\n",
    "    for i in range(1000):\n",
    "        params = update(params, x_data, y_data, x_phy, coeffs, lr)\n",
    "\n",
    "#         if i%500==0:\n",
    "#             l = loss(params, x_data, y_data, x_phy, coeffs)\n",
    "#             print(\"Loss after epoch {}: {}\".format(i,l))\n",
    "#             history.append(l)"
   ]
  },
  {
   "cell_type": "code",
   "execution_count": 19,
   "id": "9ad95175",
   "metadata": {},
   "outputs": [
    {
     "name": "stdout",
     "output_type": "stream",
     "text": [
      "203 ms ± 2.01 ms per loop (mean ± std. dev. of 7 runs, 1 loop each)\n"
     ]
    }
   ],
   "source": [
    "%timeit xlatrain(params, x_data, y_data, x_phy)"
   ]
  },
  {
   "cell_type": "code",
   "execution_count": null,
   "id": "5ebf3ff6",
   "metadata": {},
   "outputs": [],
   "source": []
  }
 ],
 "metadata": {
  "kernelspec": {
   "display_name": "Python 3 (ipykernel)",
   "language": "python",
   "name": "python3"
  },
  "language_info": {
   "codemirror_mode": {
    "name": "ipython",
    "version": 3
   },
   "file_extension": ".py",
   "mimetype": "text/x-python",
   "name": "python",
   "nbconvert_exporter": "python",
   "pygments_lexer": "ipython3",
   "version": "3.8.10"
  }
 },
 "nbformat": 4,
 "nbformat_minor": 5
}
