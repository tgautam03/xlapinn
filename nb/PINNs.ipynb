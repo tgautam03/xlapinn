{
 "cells": [
  {
   "cell_type": "code",
   "execution_count": 1,
   "id": "f743625b",
   "metadata": {},
   "outputs": [],
   "source": [
    "import jax.numpy as jnp\n",
    "import jax\n",
    "import numpy as np\n",
    "\n",
    "import matplotlib.pyplot as plt"
   ]
  },
  {
   "cell_type": "code",
   "execution_count": 2,
   "id": "2cccab0e",
   "metadata": {},
   "outputs": [],
   "source": [
    "class Cheb_poly():\n",
    "    def __init__(self, N, M):\n",
    "        super(Cheb_poly, self).__init__()\n",
    "        self.N = N\n",
    "        self.M = M\n",
    "        \n",
    "    def make_one_function(self):\n",
    "        coefficents = []\n",
    "        for i in range(self.N):\n",
    "            coefficents.append(np.random.uniform(-self.M,self.M))\n",
    "        Cheb = np.polynomial.chebyshev.Chebyshev(coefficents,[0,1])\n",
    "        return Cheb\n",
    "    \n",
    "    def sample_one_function(self, Cheb, x, y):\n",
    "        return(Cheb(x),y,Cheb.integ(lbnd=0)(y))\n",
    "    \n",
    "    def sample_functions(self, n, m):\n",
    "        input_u_list = []\n",
    "        input_y_list = []\n",
    "        output_list = []\n",
    "        input_u = np.zeros((2,n,np.max(m)))\n",
    "        input_y = np.zeros((2,n,1))\n",
    "        output = np.zeros((2,n,1))\n",
    "        #y = np.random.uniform(0, 1, 1) # Output location\n",
    "        #y = np.array([1]) # Output location\n",
    "        for i in range(n):\n",
    "            #y = np.array([1])\n",
    "            func = self.make_one_function() # Make new u(x) function\n",
    "            y = np.random.uniform(0, 1, 1) # Output location\n",
    "            for j in range(m.shape[0]):\n",
    "                x = np.linspace(0, 1, m[j]) # Input Location\n",
    "                p1, p2, p3 = self.sample_one_function(func,x, y)\n",
    "                input_u[j,i,:] = np.pad(p1,(0, int(np.max(m)-m[j])))\n",
    "                input_y[j,i,:] = p2\n",
    "                output[j,i,:] = p3\n",
    "                \n",
    "        for j in range(m.shape[0]):\n",
    "            input_u_list.append(input_u[j,:,0:m[j]])\n",
    "            input_y_list.append(input_y[j])\n",
    "            output_list.append(output[j])\n",
    "            \n",
    "        return input_u_list, input_y_list, output_list\n",
    "    \n",
    "    def sample_functions_test(self, n, m, y_dim):\n",
    "        input_u_list = []\n",
    "        input_y_list = []\n",
    "        output_list = []\n",
    "        input_u = np.zeros((2,n,np.max(m)))\n",
    "        input_y = np.zeros((2, n, y_dim))\n",
    "        output = np.zeros((2, n, y_dim))\n",
    "        #y = np.random.uniform(0, 1, 1) # Output location\n",
    "        #y = np.array([1]) # Output location\n",
    "        for i in range(n):\n",
    "            #y = np.array([1])\n",
    "            func = self.make_one_function() # Make new u(x) function\n",
    "            y = np.linspace(0, 1, y_dim) # Output location\n",
    "            for j in range(m.shape[0]):\n",
    "                x = np.linspace(0, 1, m[j]) # Input Location\n",
    "                p1, p2, p3 = self.sample_one_function(func,x, y)\n",
    "                input_u[j,i,:] = np.pad(p1,(0, int(np.max(m)-m[j])))\n",
    "                input_y[j,i,:] = p2\n",
    "                output[j,i,:] = p3\n",
    "                \n",
    "        for j in range(m.shape[0]):\n",
    "            input_u_list.append(input_u[j,:,0:m[j]])\n",
    "            input_y_list.append(input_y[j])\n",
    "            output_list.append(output[j])\n",
    "            \n",
    "        return input_u_list, input_y_list, output_list\n",
    "    \n",
    "        #x = np.linspace(0, 1, m) # Input locations\n",
    "        #y = np.linspace(0, 1, 100) # Output location\n",
    "        #input_u = []\n",
    "        #input_y = []\n",
    "        #output = []\n",
    "        #for i in range(n):\n",
    "        #    p1, p2, p3 = self.one_function(x,y)\n",
    "        #   input_u.append(p1)\n",
    "        #    input_y.append(p2)\n",
    "        #    output.append(p3)\n",
    "        #return np.array(input_u), np.array(input_y), np.array(output)\n",
    "    \n",
    "Cheb = Cheb_poly(5, 1) # Chebyshev polynomial degree, absolute coefficent bound value i.e. [-1,1]\n",
    "sensors = np.array([10, 100])\n",
    "input_u, input_y, output = Cheb.sample_functions(10000, sensors) # Number of u(x) functions, Number of sensors   \n",
    "input_u_test, input_y_test, output_test = Cheb.sample_functions(10000, sensors) # Number of u(x) functions, Number of sensors "
   ]
  },
  {
   "cell_type": "code",
   "execution_count": 3,
   "id": "4ac9f314",
   "metadata": {},
   "outputs": [
    {
     "data": {
      "text/plain": [
       "<matplotlib.legend.Legend at 0x7f7b9d8c1d30>"
      ]
     },
     "execution_count": 3,
     "metadata": {},
     "output_type": "execute_result"
    },
    {
     "data": {
      "image/png": "[encoded data removed]",
      "text/plain": [
       "<Figure size 432x288 with 1 Axes>"
      ]
     },
     "metadata": {
      "needs_background": "light"
     },
     "output_type": "display_data"
    }
   ],
   "source": [
    "plt.title('Training Data u(x)')\n",
    "plt.plot(np.linspace(0, 1, sensors[0]),input_u[0][1])\n",
    "plt.plot(np.linspace(0, 1, sensors[1]),input_u[1][1])\n",
    "plt.legend(['Low Sampling', 'High Sampling'])"
   ]
  },
  {
   "cell_type": "code",
   "execution_count": 17,
   "id": "799b2672",
   "metadata": {},
   "outputs": [],
   "source": [
    "def init_params(layers:list):\n",
    "    params = []\n",
    "\n",
    "    key_ = jax.random.PRNGKey(seed=0)\n",
    "    for i in range(len(layers)-1):\n",
    "        key_, subkey_ = jax.random.split(key=key_)\n",
    "        W = jax.random.normal(key=subkey_, shape=(layers[i],layers[i+1]))\n",
    "        b = jnp.zeros(shape=(layers[i+1],))\n",
    "\n",
    "        params.append(dict(weights=W, biases=b))\n",
    "\n",
    "    return params\n",
    "\n",
    "def forward(X, params:list): \n",
    "    hidden = params[:-1]\n",
    "    last = params[-1]\n",
    "\n",
    "    for layer in hidden:\n",
    "        Z = jnp.dot(X,layer['weights']) + layer['biases']\n",
    "        X = jax.nn.relu(Z)\n",
    "\n",
    "    A = jnp.dot(X,last['weights']) + last['biases']\n",
    "\n",
    "    return A\n",
    "\n",
    "def loss(X,Y,params:list):\n",
    "    A = forward(X,params)\n",
    "    return jnp.mean((A-Y)**2)\n",
    "\n",
    "@jax.jit\n",
    "def update(X,Y,params:list,lr):\n",
    "    # Computing Gradients\n",
    "    grads = jax.grad(loss, argnums=(2))(X,Y,params)\n",
    "\n",
    "    # SGD Update\n",
    "    return jax.tree_map(lambda p,g:p-lr*g, params, grads)"
   ]
  },
  {
   "cell_type": "code",
   "execution_count": 14,
   "id": "36d7dd98",
   "metadata": {},
   "outputs": [
    {
     "data": {
      "text/plain": [
       "<matplotlib.collections.PathCollection at 0x7f7b9ac2c8b0>"
      ]
     },
     "execution_count": 14,
     "metadata": {},
     "output_type": "execute_result"
    },
    {
     "data": {
      "image/png": "[encoded data removed]",
      "text/plain": [
       "<Figure size 432x288 with 1 Axes>"
      ]
     },
     "metadata": {
      "needs_background": "light"
     },
     "output_type": "display_data"
    }
   ],
   "source": [
    "X = np.expand_dims(np.linspace(0, 1, sensors[1]), axis=-1)\n",
    "Y = np.expand_dims(input_u[1][1], axis=-1)\n",
    "\n",
    "plt.title('Training Data u(x)')\n",
    "plt.scatter(X,Y)"
   ]
  },
  {
   "cell_type": "code",
   "execution_count": 19,
   "id": "0e3c5a82",
   "metadata": {},
   "outputs": [],
   "source": [
    "params = init_params([1,128,128,1])\n",
    "\n",
    "num_iter = 5000\n",
    "lr = 0.0001\n",
    "\n",
    "num_epochs = 5000\n",
    "for _ in range(num_epochs):\n",
    "    params = update(X, Y, params, lr)"
   ]
  },
  {
   "cell_type": "code",
   "execution_count": 25,
   "id": "48af50fc",
   "metadata": {},
   "outputs": [
    {
     "data": {
      "text/plain": [
       "<matplotlib.legend.Legend at 0x7f7b0468fdf0>"
      ]
     },
     "execution_count": 25,
     "metadata": {},
     "output_type": "execute_result"
    },
    {
     "data": {
      "image/png": "[encoded data removed]",
      "text/plain": [
       "<Figure size 432x288 with 1 Axes>"
      ]
     },
     "metadata": {
      "needs_background": "light"
     },
     "output_type": "display_data"
    }
   ],
   "source": [
    "X_test = np.expand_dims(np.linspace(0, 1, sensors[0]), axis=-1)\n",
    "Y_test = np.expand_dims(input_u[0][1], axis=-1)\n",
    "\n",
    "plt.title('Test Data u(x)')\n",
    "plt.scatter(X_test, Y_test, label=\"True\")\n",
    "plt.scatter(X_test, forward(X_test, params), label=\"Pred\")\n",
    "plt.legend()"
   ]
  },
  {
   "cell_type": "code",
   "execution_count": null,
   "id": "51d89087",
   "metadata": {},
   "outputs": [],
   "source": []
  }
 ],
 "metadata": {
  "kernelspec": {
   "display_name": "Python 3 (ipykernel)",
   "language": "python",
   "name": "python3"
  },
  "language_info": {
   "codemirror_mode": {
    "name": "ipython",
    "version": 3
   },
   "file_extension": ".py",
   "mimetype": "text/x-python",
   "name": "python",
   "nbconvert_exporter": "python",
   "pygments_lexer": "ipython3",
   "version": "3.8.10"
  }
 },
 "nbformat": 4,
 "nbformat_minor": 5
}
