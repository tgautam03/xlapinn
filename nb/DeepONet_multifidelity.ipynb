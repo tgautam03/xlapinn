{
 "cells": [
  {
   "cell_type": "code",
   "execution_count": 2,
   "id": "functioning-great",
   "metadata": {},
   "outputs": [],
   "source": [
    "import torch\n",
    "import torch.nn as nn\n",
    "import numpy as np\n",
    "import matplotlib.pyplot as plt\n",
    "import time"
   ]
  },
  {
   "cell_type": "markdown",
   "id": "rational-paper",
   "metadata": {},
   "source": [
    "# Testing Chebyshev polynomials"
   ]
  },
  {
   "cell_type": "raw",
   "id": "identified-tractor",
   "metadata": {},
   "source": [
    "N = 10\n",
    "M = 1\n",
    "coefficents = []\n",
    "for i in range(N):\n",
    "    coefficents.append(np.random.uniform(-M,M))\n",
    "Cheb = np.polynomial.chebyshev.Chebyshev(coefficents,[0,1])\n",
    "Cheb_integ = Cheb.integ(lbnd=0)\n",
    "\n",
    "m = 100\n",
    "x = np.linspace(0, 1, m)\n",
    "\n",
    "u_x = Cheb(x)\n",
    "u_x_integ = Cheb_integ(x)\n",
    "plt.plot(u_x)\n",
    "plt.show()\n",
    "plt.plot(u_x_integ)"
   ]
  },
  {
   "cell_type": "markdown",
   "id": "biological-international",
   "metadata": {},
   "source": [
    "# DeepONets"
   ]
  },
  {
   "cell_type": "code",
   "execution_count": 220,
   "id": "challenging-connecticut",
   "metadata": {},
   "outputs": [],
   "source": [
    "class Cheb_poly():\n",
    "    def __init__(self, N, M):\n",
    "        super(Cheb_poly, self).__init__()\n",
    "        self.N = N\n",
    "        self.M = M\n",
    "        \n",
    "    def make_one_function(self):\n",
    "        coefficents = []\n",
    "        for i in range(self.N):\n",
    "            coefficents.append(np.random.uniform(-self.M,self.M))\n",
    "        Cheb = np.polynomial.chebyshev.Chebyshev(coefficents,[0,1])\n",
    "        return Cheb\n",
    "    \n",
    "    def sample_one_function(self, Cheb, x, y):\n",
    "        return(Cheb(x),y,Cheb.integ(lbnd=0)(y))\n",
    "    \n",
    "    def sample_functions(self, n, m):\n",
    "        input_u_list = []\n",
    "        input_y_list = []\n",
    "        output_list = []\n",
    "        input_u = np.zeros((2,n,np.max(m)))\n",
    "        input_y = np.zeros((2,n,1))\n",
    "        output = np.zeros((2,n,1))\n",
    "        #y = np.random.uniform(0, 1, 1) # Output location\n",
    "        #y = np.array([1]) # Output location\n",
    "        for i in range(n):\n",
    "            #y = np.array([1])\n",
    "            func = self.make_one_function() # Make new u(x) function\n",
    "            y = np.random.uniform(0, 1, 1) # Output location\n",
    "            for j in range(m.shape[0]):\n",
    "                x = np.linspace(0, 1, m[j]) # Input Location\n",
    "                p1, p2, p3 = self.sample_one_function(func,x, y)\n",
    "                input_u[j,i,:] = np.pad(p1,(0, int(np.max(m)-m[j])))\n",
    "                input_y[j,i,:] = p2\n",
    "                output[j,i,:] = p3\n",
    "                \n",
    "        for j in range(m.shape[0]):\n",
    "            input_u_list.append(input_u[j,:,0:m[j]])\n",
    "            input_y_list.append(input_y[j])\n",
    "            output_list.append(output[j])\n",
    "            \n",
    "        return input_u_list, input_y_list, output_list\n",
    "    \n",
    "    def sample_functions_test(self, n, m, y_dim):\n",
    "        input_u_list = []\n",
    "        input_y_list = []\n",
    "        output_list = []\n",
    "        input_u = np.zeros((2,n,np.max(m)))\n",
    "        input_y = np.zeros((2, n, y_dim))\n",
    "        output = np.zeros((2, n, y_dim))\n",
    "        #y = np.random.uniform(0, 1, 1) # Output location\n",
    "        #y = np.array([1]) # Output location\n",
    "        for i in range(n):\n",
    "            #y = np.array([1])\n",
    "            func = self.make_one_function() # Make new u(x) function\n",
    "            y = np.linspace(0, 1, y_dim) # Output location\n",
    "            for j in range(m.shape[0]):\n",
    "                x = np.linspace(0, 1, m[j]) # Input Location\n",
    "                p1, p2, p3 = self.sample_one_function(func,x, y)\n",
    "                input_u[j,i,:] = np.pad(p1,(0, int(np.max(m)-m[j])))\n",
    "                input_y[j,i,:] = p2\n",
    "                output[j,i,:] = p3\n",
    "                \n",
    "        for j in range(m.shape[0]):\n",
    "            input_u_list.append(input_u[j,:,0:m[j]])\n",
    "            input_y_list.append(input_y[j])\n",
    "            output_list.append(output[j])\n",
    "            \n",
    "        return input_u_list, input_y_list, output_list\n",
    "    \n",
    "        #x = np.linspace(0, 1, m) # Input locations\n",
    "        #y = np.linspace(0, 1, 100) # Output location\n",
    "        #input_u = []\n",
    "        #input_y = []\n",
    "        #output = []\n",
    "        #for i in range(n):\n",
    "        #    p1, p2, p3 = self.one_function(x,y)\n",
    "        #   input_u.append(p1)\n",
    "        #    input_y.append(p2)\n",
    "        #    output.append(p3)\n",
    "        #return np.array(input_u), np.array(input_y), np.array(output)\n",
    "    \n",
    "Cheb = Cheb_poly(5, 1) # Chebyshev polynomial degree, absolute coefficent bound value i.e. [-1,1]\n",
    "sensors = np.array([10, 100])\n",
    "input_u, input_y, output = Cheb.sample_functions(10000, sensors) # Number of u(x) functions, Number of sensors   \n",
    "input_u_test, input_y_test, output_test = Cheb.sample_functions(10000, sensors) # Number of u(x) functions, Number of sensors "
   ]
  },
  {
   "cell_type": "code",
   "execution_count": 232,
   "id": "frozen-federation",
   "metadata": {},
   "outputs": [
    {
     "data": {
      "text/plain": [
       "<matplotlib.legend.Legend at 0x1f9a78eda60>"
      ]
     },
     "execution_count": 232,
     "metadata": {},
     "output_type": "execute_result"
    },
    {
     "data": {
      "image/png": "[encoded data removed]",
      "text/plain": [
       "<Figure size 432x288 with 1 Axes>"
      ]
     },
     "metadata": {
      "needs_background": "light"
     },
     "output_type": "display_data"
    }
   ],
   "source": [
    "plt.title('Training Data u(x)')\n",
    "plt.plot(np.linspace(0, 1, sensors[0]),input_u[0][1])\n",
    "plt.plot(np.linspace(0, 1, sensors[1]),input_u[1][1])\n",
    "plt.legend(['Low Sampling', 'High Sampling'])"
   ]
  },
  {
   "cell_type": "code",
   "execution_count": 233,
   "id": "improved-smell",
   "metadata": {},
   "outputs": [],
   "source": [
    "# Base Neural Network class\n",
    "class Net(nn.Module):\n",
    "    def __init__(self, layers, act=nn.ReLU()):\n",
    "        super(Net, self).__init__()\n",
    "        self.act = act\n",
    "        self.fc = nn.ModuleList()\n",
    "        for i in range(len(layers) - 1):\n",
    "            self.fc.append(nn.Linear(layers[i], layers[i+1]))\n",
    "    def forward(self, x):\n",
    "        for i in range(len(self.fc) - 1):\n",
    "            x = self.fc[i](x)\n",
    "            x = self.act(x)\n",
    "        x = self.fc[-1](x)\n",
    "        return x"
   ]
  },
  {
   "cell_type": "code",
   "execution_count": 234,
   "id": "listed-activity",
   "metadata": {},
   "outputs": [],
   "source": [
    "class bias_class(nn.Module):\n",
    "    def __init__(self, input_u):\n",
    "        super(bias_class, self).__init__()\n",
    "        self.bias_param = nn.Parameter(torch.unsqueeze(torch.zeros(1, requires_grad=True),1))\n",
    "    def forward(self):\n",
    "        return self.bias_param"
   ]
  },
  {
   "cell_type": "code",
   "execution_count": 275,
   "id": "phantom-september",
   "metadata": {},
   "outputs": [],
   "source": [
    "class DeepONet():\n",
    "    def __init__(self, input_u, input_y, output, input_u_test, input_y_test, output_test, sensors):\n",
    "        super(DeepONet,self).__init__()\n",
    "        self.branch = Net([sensors,50,50])\n",
    "        self.trunk = Net([1,50,50])\n",
    "        self.input_u = torch.tensor(input_u, dtype = torch.float32)\n",
    "        self.input_y = torch.tensor(input_y, dtype = torch.float32)\n",
    "        self.output = torch.tensor(output, dtype = torch.float32)\n",
    "        self.input_u_test = torch.tensor(input_u_test, dtype = torch.float32)\n",
    "        self.input_y_test = torch.tensor(input_y_test, dtype = torch.float32)\n",
    "        self.output_test = torch.tensor(output_test, dtype = torch.float32)\n",
    "        #self.bias_param = bias_class(self.input_u)\n",
    "        \n",
    "        #params = list(self.branch.parameters()) + list(self.trunk.parameters()) + list(self.bias_param.parameters())\n",
    "        self.params = list(self.branch.parameters()) + list(self.trunk.parameters())\n",
    "        \n",
    "    def get_loss(self):\n",
    "        branch_out = self.branch(self.input_u)\n",
    "        trunk_out = self.trunk(self.input_y)\n",
    "        #pred = torch.sum(branch_out * nn.functional.relu(trunk_out), dim=-1, keepdim=True) + self.bias_param()\n",
    "        pred = torch.sum(branch_out * trunk_out, dim=-1, keepdim=True)\n",
    "        mse = (self.output - pred).square().mean()\n",
    "        return mse\n",
    "    \n",
    "    def train(self, epochs):\n",
    "        loss_list = []\n",
    "        test_error = []\n",
    "\n",
    "        optimizer = torch.optim.AdamW(self.params , lr=1e-3)\n",
    "        for i in range(epochs):\n",
    "            loss = self.get_loss()\n",
    "            optimizer.zero_grad()\n",
    "            loss.backward()\n",
    "            optimizer.step()\n",
    "            loss_list.append(loss.detach().numpy())\n",
    "            if i%25 == 0:\n",
    "                if i%500 == 0:\n",
    "                    print('Epoch: ', i)\n",
    "                test_error.append(self.test())\n",
    "        return np.array(loss_list), np.array(test_error)\n",
    "    \n",
    "    def train_lbfgs(self, lr, max_iter, max_eval, tolerance_grad, tolerance_change, history_size):\n",
    "        loss_list = []\n",
    "        test_error = []\n",
    "        \n",
    "        optimizer = torch.optim.LBFGS(self.params, lr=lr, max_iter=max_iter, max_eval=max_eval,\n",
    "            tolerance_grad=tolerance_grad, tolerance_change=tolerance_change, history_size=history_size)\n",
    "        def closure():\n",
    "            optimizer.zero_grad()\n",
    "            loss = self.get_loss()\n",
    "            loss.backward(retain_graph=True)\n",
    "            global iter_count \n",
    "            iter_count += 1\n",
    "            loss_list.append(loss.detach().numpy())\n",
    "            if iter_count%25 == 0:\n",
    "                if iter_count%500 == 0:\n",
    "                    print('L-BFGS iter: ', iter_count)\n",
    "                    print('loss:%g'%loss.item())\n",
    "                test_error.append(self.test())\n",
    "            return loss\n",
    "        optimizer.step(closure)\n",
    "        return np.array(loss_list), np.array(test_error)\n",
    "        \n",
    "    def test(self):\n",
    "        with torch.no_grad():\n",
    "            branch_out_test = self.branch(self.input_u_test)\n",
    "            trunk_out_test = self.trunk(self.input_y_test)\n",
    "            #pred = torch.sum(branch_out_test * nn.functional.relu(trunk_out_test), dim=-1, keepdim=True) + self.bias_param()\n",
    "            pred = torch.sum(branch_out_test * trunk_out_test, dim=-1, keepdim=True)\n",
    "            mse = (self.output_test - pred).square().mean()\n",
    "            \n",
    "        return mse\n",
    "    \n",
    "    def pred(self, input_u, input_y):\n",
    "        branch_out = self.branch(torch.tensor(input_u, dtype = torch.float32))\n",
    "        trunk_out = self.trunk(torch.tensor(input_y, dtype = torch.float32))\n",
    "        #pred = torch.sum(branch_out * nn.functional.relu(trunk_out), dim=-1, keepdim=True) + self.bias_param()\n",
    "        pred = torch.sum(branch_out * trunk_out, dim=-1, keepdim=True)\n",
    "        return pred"
   ]
  },
  {
   "cell_type": "code",
   "execution_count": 325,
   "id": "sharp-corner",
   "metadata": {},
   "outputs": [
    {
     "name": "stdout",
     "output_type": "stream",
     "text": [
      "Epoch:  0\n",
      "L-BFGS iter:  500\n",
      "loss:3.32369e-05\n",
      "L-BFGS iter:  1000\n",
      "loss:9.09496e-06\n",
      "L-BFGS iter:  1500\n",
      "loss:4.92026e-06\n",
      "L-BFGS iter:  2000\n",
      "loss:3.20783e-06\n",
      "L-BFGS iter:  2500\n",
      "loss:3.19274e-06\n",
      "L-BFGS iter:  3000\n",
      "loss:3.18346e-06\n",
      "L-BFGS iter:  3500\n",
      "loss:3.17582e-06\n",
      "L-BFGS iter:  4000\n",
      "loss:3.16913e-06\n",
      "Training time: 85.5258\n"
     ]
    }
   ],
   "source": [
    "epochs = 500\n",
    "\n",
    "start_time = time.time()\n",
    "# Low-fidelity sampling\n",
    "Test_DeepONet_low = DeepONet(input_u[0], input_y[0], output[0], input_u_test[0], input_y_test[0], output_test[0], sensors[0])\n",
    "loss_list_DeepONet_low_adam, test_error_DeepONet_low_adam = Test_DeepONet_low.train(epochs)\n",
    "\n",
    "# Optimization Hyperparameters for LBFGS\n",
    "lr = 0.1; max_iter = 20000; max_eval = None; tolerance_grad = 1e-6; tolerance_change = 1e-12; history_size = 50;\n",
    "global iter_count \n",
    "iter_count = 0\n",
    "loss_list_DeepONet_low_lbfgs, test_error_DeepONet_low_lbfgs = Test_DeepONet_low.train_lbfgs(lr, max_iter, max_eval, tolerance_grad, tolerance_change, history_size)\n",
    "elapsed = time.time() - start_time                \n",
    "print('Training time: %.4f' % (elapsed))\n",
    "iter_count_low = iter_count"
   ]
  },
  {
   "cell_type": "code",
   "execution_count": 328,
   "id": "retained-start",
   "metadata": {},
   "outputs": [
    {
     "name": "stdout",
     "output_type": "stream",
     "text": [
      "Epoch:  0\n",
      "L-BFGS iter:  500\n",
      "loss:2.67889e-05\n",
      "L-BFGS iter:  1000\n",
      "loss:6.6863e-06\n",
      "L-BFGS iter:  1500\n",
      "loss:3.3269e-06\n",
      "L-BFGS iter:  2000\n",
      "loss:2.46972e-06\n",
      "L-BFGS iter:  2500\n",
      "loss:2.45461e-06\n",
      "L-BFGS iter:  3000\n",
      "loss:2.44431e-06\n",
      "L-BFGS iter:  3500\n",
      "loss:2.436e-06\n",
      "L-BFGS iter:  4000\n",
      "loss:2.42885e-06\n",
      "L-BFGS iter:  4500\n",
      "loss:2.42261e-06\n",
      "Training time: 113.7646\n"
     ]
    }
   ],
   "source": [
    "start_time = time.time()\n",
    "# High-fidelity sampling\n",
    "Test_DeepONet_high = DeepONet(input_u[1], input_y[1], output[1], input_u_test[1], input_y_test[1], output_test[1], sensors[1])\n",
    "loss_list_DeepONet_high_adam, test_error_DeepONet_high_adam = Test_DeepONet_high.train(epochs)\n",
    "\n",
    "# Optimization Hyperparameters for LBFGS\n",
    "lr = 0.1; max_iter = 20000; max_eval = None; tolerance_grad = 1e-6; tolerance_change = 1e-12; history_size = 50;\n",
    "global iter_count \n",
    "iter_count = 0\n",
    "loss_list_DeepONet_high_lbfgs, test_error_DeepONet_high_lbfgs = Test_DeepONet_high.train_lbfgs(lr, max_iter, max_eval, tolerance_grad, tolerance_change, history_size)\n",
    "elapsed = time.time() - start_time                \n",
    "print('Training time: %.4f' % (elapsed))\n",
    "iter_count_high = iter_count"
   ]
  },
  {
   "cell_type": "code",
   "execution_count": 329,
   "id": "lined-politics",
   "metadata": {},
   "outputs": [
    {
     "data": {
      "image/png": "[encoded data removed]",
      "text/plain": [
       "<Figure size 504x504 with 1 Axes>"
      ]
     },
     "metadata": {
      "needs_background": "light"
     },
     "output_type": "display_data"
    }
   ],
   "source": [
    "plt.figure(figsize=[7,7])\n",
    "x = np.linspace(0,epochs,int((epochs)/25))\n",
    "x_low = np.linspace(0,iter_count_low,int((iter_count_low)/25))+epochs\n",
    "plt.plot(np.concatenate((loss_list_DeepONet_low_adam,loss_list_DeepONet_low_lbfgs)))\n",
    "plt.plot(np.concatenate((x,x_low)),np.concatenate((test_error_DeepONet_low_adam,test_error_DeepONet_low_lbfgs)))\n",
    "\n",
    "x_high = np.linspace(0,iter_count_high,int((iter_count_high)/25))+epochs\n",
    "plt.plot(np.concatenate((loss_list_DeepONet_high_adam,loss_list_DeepONet_high_lbfgs)))\n",
    "plt.plot(np.concatenate((x,x_high)),np.concatenate((test_error_DeepONet_high_adam,test_error_DeepONet_high_lbfgs)))\n",
    "\n",
    "plt.axvline(x=epochs,c='black', linestyle='-', alpha=0.5)\n",
    "\n",
    "plt.title('Adam + L-BFGS Error')\n",
    "plt.ylabel('Error')\n",
    "plt.yscale('log')\n",
    "plt.xlabel('Epoch')\n",
    "plt.legend(['DeepONet Train Loss (low)','DeepONet Test Error (low)','DeepONet Train Loss (high)','DeepONet Test Error (high)','Switch to L-BFGS'])\n",
    "plt.show()"
   ]
  },
  {
   "cell_type": "raw",
   "id": "great-quality",
   "metadata": {},
   "source": [
    "y_num = 100\n",
    "input_u_singleTest, input_y_singleTest, output_singleTest = Cheb.sample_functions_test(1, sensors, y_num) # Number of u(x) functions, Number of sensors, Number of y locations\n",
    "predictions_FNN_low = []; predictions_FNN_high = [];\n",
    "predictions_DeepONet_low = []; predictions_DeepONet_high = [];\n",
    "for i in range(y_num):\n",
    "    predictions_DeepONet_low.append(Test_DeepONet_low.pred(np.reshape(input_u_singleTest[0][0][:],[1,-1]),np.reshape(input_y_singleTest[0][0][i],[1])))\n",
    "    predictions_DeepONet_high.append(Test_DeepONet_high.pred(np.reshape(input_u_singleTest[1][0][:],[1,-1]),np.reshape(input_y_singleTest[1][0][i],[1])))"
   ]
  },
  {
   "cell_type": "raw",
   "id": "burning-custom",
   "metadata": {},
   "source": [
    "fig, ax = plt.subplots(1, 1)\n",
    "fig.set_figheight(5)\n",
    "fig.set_figwidth(5)\n",
    "plt.subplot(1, 1, 1)\n",
    "plt.plot(output_singleTest[0][0].T)\n",
    "plt.plot(predictions_DeepONet_low)\n",
    "plt.plot(predictions_DeepONet_high)\n",
    "plt.title('Cheb')\n",
    "plt.legend(['Exact','Low-fidelity u(x)', 'High-fidelity u(x)'],fontsize=12,bbox_to_anchor=(0,1.1,1,0.2), loc=\"lower left\", ncol=3, fancybox=True)"
   ]
  },
  {
   "cell_type": "markdown",
   "id": "quantitative-estonia",
   "metadata": {},
   "source": [
    "# Training Times"
   ]
  },
  {
   "cell_type": "code",
   "execution_count": 322,
   "id": "fifty-contest",
   "metadata": {},
   "outputs": [
    {
     "name": "stdout",
     "output_type": "stream",
     "text": [
      "Epoch:  0\n",
      "L-BFGS iter:  500\n",
      "loss:0.000143065\n",
      "L-BFGS iter:  1000\n",
      "loss:5.0798e-05\n",
      "L-BFGS iter:  1500\n",
      "loss:3.40187e-05\n",
      "L-BFGS iter:  2000\n",
      "loss:3.39134e-05\n",
      "L-BFGS iter:  2500\n",
      "loss:3.38816e-05\n",
      "L-BFGS iter:  3000\n",
      "loss:3.38574e-05\n",
      "Training time: 74.9741\n"
     ]
    }
   ],
   "source": [
    "epochs = 500\n",
    "\n",
    "start_time = time.time()\n",
    "# Low-fidelity sampling\n",
    "Test_DeepONet_low = DeepONet(input_u[0], input_y[0], output[0], input_u_test[0], input_y_test[0], output_test[0], sensors[0])\n",
    "loss_list_DeepONet_low_adam, test_error_DeepONet_low_adam = Test_DeepONet_low.train(epochs)\n",
    "\n",
    "# Optimization Hyperparameters for LBFGS\n",
    "lr = 0.1; max_iter = 20000; max_eval = None; tolerance_grad = 1e-6; tolerance_change = 1e-12; history_size = 50;\n",
    "global iter_count \n",
    "iter_count = 0\n",
    "loss_list_DeepONet_low_lbfgs, test_error_DeepONet_low_lbfgs = Test_DeepONet_low.train_lbfgs(lr, max_iter, max_eval, tolerance_grad, tolerance_change, history_size)\n",
    "elapsed = time.time() - start_time                \n",
    "print('Training time: %.4f' % (elapsed))\n",
    "iter_count_low = iter_count"
   ]
  },
  {
   "cell_type": "code",
   "execution_count": 323,
   "id": "tutorial-blend",
   "metadata": {},
   "outputs": [
    {
     "name": "stdout",
     "output_type": "stream",
     "text": [
      "Epoch:  0\n",
      "L-BFGS iter:  500\n",
      "loss:2.75832e-05\n",
      "L-BFGS iter:  1000\n",
      "loss:7.72575e-06\n",
      "L-BFGS iter:  1500\n",
      "loss:4.85063e-06\n",
      "L-BFGS iter:  2000\n",
      "loss:4.46606e-06\n",
      "L-BFGS iter:  2500\n",
      "loss:4.44235e-06\n",
      "L-BFGS iter:  3000\n",
      "loss:4.42613e-06\n",
      "L-BFGS iter:  3500\n",
      "loss:4.41382e-06\n",
      "L-BFGS iter:  4000\n",
      "loss:4.40334e-06\n",
      "L-BFGS iter:  4500\n",
      "loss:4.3941e-06\n",
      "Training time: 116.9178\n"
     ]
    }
   ],
   "source": [
    "start_time = time.time()\n",
    "# High-fidelity sampling\n",
    "Test_DeepONet_high = DeepONet(input_u[1], input_y[1], output[1], input_u_test[1], input_y_test[1], output_test[1], sensors[1])\n",
    "loss_list_DeepONet_high_adam, test_error_DeepONet_high_adam = Test_DeepONet_high.train(epochs)\n",
    "\n",
    "# Optimization Hyperparameters for LBFGS\n",
    "lr = 0.1; max_iter = 20000; max_eval = None; tolerance_grad = 1e-6; tolerance_change = 1e-12; history_size = 50;\n",
    "global iter_count\n",
    "iter_count = 0\n",
    "loss_list_DeepONet_high_lbfgs, test_error_DeepONet_high_lbfgs = Test_DeepONet_high.train_lbfgs(lr, max_iter, max_eval, tolerance_grad, tolerance_change, history_size)\n",
    "elapsed = time.time() - start_time                \n",
    "print('Training time: %.4f' % (elapsed))\n",
    "iter_count_high = iter_count"
   ]
  },
  {
   "cell_type": "code",
   "execution_count": 324,
   "id": "clear-composition",
   "metadata": {},
   "outputs": [
    {
     "data": {
      "image/png": "[encoded data removed]",
      "text/plain": [
       "<Figure size 504x504 with 1 Axes>"
      ]
     },
     "metadata": {
      "needs_background": "light"
     },
     "output_type": "display_data"
    }
   ],
   "source": [
    "plt.figure(figsize=[7,7])\n",
    "x = np.linspace(0,epochs,int((epochs)/25))\n",
    "x_low = np.linspace(0,iter_count_low,int((iter_count_low)/25))+epochs\n",
    "plt.plot(np.concatenate((loss_list_DeepONet_low_adam,loss_list_DeepONet_low_lbfgs)))\n",
    "plt.plot(np.concatenate((x,x_low)),np.concatenate((test_error_DeepONet_low_adam,test_error_DeepONet_low_lbfgs)))\n",
    "\n",
    "x_high = np.linspace(0,iter_count_high,int((iter_count_high)/25))+epochs\n",
    "plt.plot(np.concatenate((loss_list_DeepONet_high_adam,loss_list_DeepONet_high_lbfgs)))\n",
    "plt.plot(np.concatenate((x,x_high)),np.concatenate((test_error_DeepONet_high_adam,test_error_DeepONet_high_lbfgs)))\n",
    "\n",
    "plt.axvline(x=epochs,c='black', linestyle='-', alpha=0.5)\n",
    "\n",
    "plt.title('Adam + L-BFGS Error')\n",
    "plt.ylabel('Error')\n",
    "plt.yscale('log')\n",
    "plt.xlabel('Epoch')\n",
    "plt.legend(['DeepONet Train Loss (low)','DeepONet Test Error (low)','DeepONet Train Loss (high)','DeepONet Test Error (high)','Switch to L-BFGS'])\n",
    "plt.show()"
   ]
  },
  {
   "cell_type": "code",
   "execution_count": 330,
   "id": "future-lafayette",
   "metadata": {},
   "outputs": [
    {
     "name": "stdout",
     "output_type": "stream",
     "text": [
      "Epoch:  0\n",
      "Epoch:  500\n",
      "Epoch:  1000\n",
      "Epoch:  1500\n",
      "Epoch:  2000\n",
      "Epoch:  2500\n",
      "Epoch:  3000\n",
      "Epoch:  3500\n",
      "Epoch:  4000\n",
      "Epoch:  4500\n",
      "Epoch:  5000\n",
      "Epoch:  5500\n",
      "Epoch:  6000\n",
      "Epoch:  6500\n",
      "Epoch:  7000\n",
      "Epoch:  7500\n",
      "Epoch:  8000\n",
      "Epoch:  8500\n",
      "Epoch:  9000\n",
      "Epoch:  9500\n",
      "Epoch:  10000\n",
      "Epoch:  10500\n",
      "Epoch:  11000\n",
      "Epoch:  11500\n",
      "Epoch:  12000\n",
      "Epoch:  12500\n",
      "Epoch:  13000\n",
      "Epoch:  13500\n",
      "Epoch:  14000\n",
      "Epoch:  14500\n",
      "Epoch:  15000\n",
      "Epoch:  15500\n",
      "Epoch:  16000\n",
      "Epoch:  16500\n",
      "Epoch:  17000\n",
      "Epoch:  17500\n",
      "Epoch:  18000\n",
      "Epoch:  18500\n",
      "Epoch:  19000\n",
      "Epoch:  19500\n",
      "Epoch:  20000\n",
      "Epoch:  20500\n",
      "Epoch:  21000\n",
      "Epoch:  21500\n",
      "Epoch:  22000\n",
      "Epoch:  22500\n",
      "Epoch:  23000\n",
      "Epoch:  23500\n",
      "Epoch:  24000\n",
      "Epoch:  24500\n",
      "Epoch:  25000\n",
      "Epoch:  25500\n",
      "Epoch:  26000\n",
      "Epoch:  26500\n",
      "Epoch:  27000\n",
      "Epoch:  27500\n",
      "Epoch:  28000\n",
      "Epoch:  28500\n",
      "Epoch:  29000\n",
      "Epoch:  29500\n",
      "Epoch:  30000\n",
      "Epoch:  30500\n",
      "Epoch:  31000\n",
      "Epoch:  31500\n",
      "Epoch:  32000\n",
      "Epoch:  32500\n",
      "Epoch:  33000\n",
      "Epoch:  33500\n",
      "Epoch:  34000\n",
      "Epoch:  34500\n",
      "Epoch:  35000\n",
      "Epoch:  35500\n",
      "Epoch:  36000\n",
      "Epoch:  36500\n",
      "Epoch:  37000\n",
      "Epoch:  37500\n",
      "Epoch:  38000\n",
      "Epoch:  38500\n",
      "Epoch:  39000\n",
      "Epoch:  39500\n",
      "Training time: 113.7646\n"
     ]
    }
   ],
   "source": [
    "epochs = 40000\n",
    "\n",
    "start_time = time.time()\n",
    "# Low-fidelity sampling\n",
    "Test_DeepONet_low = DeepONet(input_u[0], input_y[0], output[0], input_u_test[0], input_y_test[0], output_test[0], sensors[0])\n",
    "loss_list_DeepONet_low_adam, test_error_DeepONet_low_adam = Test_DeepONet_low.train(epochs)              \n",
    "print('Training time: %.4f' % (elapsed))"
   ]
  },
  {
   "cell_type": "code",
   "execution_count": 331,
   "id": "turned-conversation",
   "metadata": {},
   "outputs": [
    {
     "name": "stdout",
     "output_type": "stream",
     "text": [
      "Epoch:  0\n",
      "Epoch:  500\n",
      "Epoch:  1000\n",
      "Epoch:  1500\n",
      "Epoch:  2000\n",
      "Epoch:  2500\n",
      "Epoch:  3000\n",
      "Epoch:  3500\n",
      "Epoch:  4000\n",
      "Epoch:  4500\n",
      "Epoch:  5000\n",
      "Epoch:  5500\n",
      "Epoch:  6000\n",
      "Epoch:  6500\n",
      "Epoch:  7000\n",
      "Epoch:  7500\n",
      "Epoch:  8000\n",
      "Epoch:  8500\n",
      "Epoch:  9000\n",
      "Epoch:  9500\n",
      "Epoch:  10000\n",
      "Epoch:  10500\n",
      "Epoch:  11000\n",
      "Epoch:  11500\n",
      "Epoch:  12000\n",
      "Epoch:  12500\n",
      "Epoch:  13000\n",
      "Epoch:  13500\n",
      "Epoch:  14000\n",
      "Epoch:  14500\n",
      "Epoch:  15000\n",
      "Epoch:  15500\n",
      "Epoch:  16000\n",
      "Epoch:  16500\n",
      "Epoch:  17000\n",
      "Epoch:  17500\n",
      "Epoch:  18000\n",
      "Epoch:  18500\n",
      "Epoch:  19000\n",
      "Epoch:  19500\n",
      "Epoch:  20000\n",
      "Epoch:  20500\n",
      "Epoch:  21000\n",
      "Epoch:  21500\n",
      "Epoch:  22000\n",
      "Epoch:  22500\n",
      "Epoch:  23000\n",
      "Epoch:  23500\n",
      "Epoch:  24000\n",
      "Epoch:  24500\n",
      "Epoch:  25000\n",
      "Epoch:  25500\n",
      "Epoch:  26000\n",
      "Epoch:  26500\n",
      "Epoch:  27000\n",
      "Epoch:  27500\n",
      "Epoch:  28000\n",
      "Epoch:  28500\n",
      "Epoch:  29000\n",
      "Epoch:  29500\n",
      "Epoch:  30000\n",
      "Epoch:  30500\n",
      "Epoch:  31000\n",
      "Epoch:  31500\n",
      "Epoch:  32000\n",
      "Epoch:  32500\n",
      "Epoch:  33000\n",
      "Epoch:  33500\n",
      "Epoch:  34000\n",
      "Epoch:  34500\n",
      "Epoch:  35000\n",
      "Epoch:  35500\n",
      "Epoch:  36000\n",
      "Epoch:  36500\n",
      "Epoch:  37000\n",
      "Epoch:  37500\n",
      "Epoch:  38000\n",
      "Epoch:  38500\n",
      "Epoch:  39000\n",
      "Epoch:  39500\n",
      "Training time: 726.8685\n"
     ]
    }
   ],
   "source": [
    "start_time = time.time()\n",
    "# High-fidelity sampling\n",
    "Test_DeepONet_high = DeepONet(input_u[1], input_y[1], output[1], input_u_test[1], input_y_test[1], output_test[1], sensors[1])\n",
    "loss_list_DeepONet_high_adam, test_error_DeepONet_high_adam = Test_DeepONet_high.train(epochs)\n",
    "elapsed = time.time() - start_time                \n",
    "print('Training time: %.4f' % (elapsed))"
   ]
  },
  {
   "cell_type": "code",
   "execution_count": 341,
   "id": "blond-evanescence",
   "metadata": {},
   "outputs": [
    {
     "data": {
      "image/png": "[encoded data removed]",
      "text/plain": [
       "<Figure size 504x504 with 1 Axes>"
      ]
     },
     "metadata": {
      "needs_background": "light"
     },
     "output_type": "display_data"
    }
   ],
   "source": [
    "plt.figure(figsize=[7,7])\n",
    "x = np.linspace(0,epochs,int((epochs)/25))\n",
    "x_low = np.linspace(0,iter_count_low,int((iter_count_low)/25))+epochs\n",
    "plt.plot(loss_list_DeepONet_low_adam)\n",
    "plt.plot(x,test_error_DeepONet_low_adam)\n",
    "\n",
    "x_high = np.linspace(0,iter_count_high,int((iter_count_high)/25))+epochs\n",
    "plt.plot(loss_list_DeepONet_high_adam)\n",
    "plt.plot(x,test_error_DeepONet_high_adam)\n",
    "\n",
    "plt.axvline(x=epochs,c='black', linestyle='-', alpha=0.5)\n",
    "\n",
    "plt.title('Adam + L-BFGS Error')\n",
    "plt.ylabel('Error')\n",
    "plt.yscale('log')\n",
    "plt.xlabel('Epoch')\n",
    "plt.legend(['DeepONet Train Loss (low)','DeepONet Test Error (low)','DeepONet Train Loss (high)','DeepONet Test Error (high)','Switch to L-BFGS'])\n",
    "plt.show()"
   ]
  },
  {
   "cell_type": "code",
   "execution_count": null,
   "id": "biblical-saturn",
   "metadata": {},
   "outputs": [],
   "source": []
  }
 ],
 "metadata": {
  "kernelspec": {
   "display_name": "Python 3 (ipykernel)",
   "language": "python",
   "name": "python3"
  },
  "language_info": {
   "codemirror_mode": {
    "name": "ipython",
    "version": 3
   },
   "file_extension": ".py",
   "mimetype": "text/x-python",
   "name": "python",
   "nbconvert_exporter": "python",
   "pygments_lexer": "ipython3",
   "version": "3.8.10"
  }
 },
 "nbformat": 4,
 "nbformat_minor": 5
}
